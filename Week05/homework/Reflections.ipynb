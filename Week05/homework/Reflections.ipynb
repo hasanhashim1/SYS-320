{
 "cells": [
  {
   "cell_type": "markdown",
   "metadata": {},
   "source": [
    "# Registry\n",
    "Type: Credential Collection | C:\\Windows\\System32\\reg.exe ADD HKLM\\SYSTEM\\CurrentControlSet\\Control\\Lsa /v Security Packages /t REG_expand_SZ /d C:\\Windows\\System32\\netlgn.dll | 0005FSISC | reg.exe | C:\\Windows\\System32\\reg.exe | 728 | darc.flore1\n",
    "\n",
    "\n",
    "Here they are trying to add hkey in the registry. In this case they trying to add netlgn.dll.\n",
    "\n",
    "acourding to https://www.processlibrary.com/en/directory/files/netlogon/23044/\n",
    "this file has the code of the system. \n",
    "\n",
    "\"The netlogon.dll is an executable file on your computer's hard drive. This file contains machine code. If you start the software netlogon on your PC, the commands contained in netlogon.dll will be executed on your PC. For this purpose, the file is loaded into the main memory (RAM) and runs there as a netlogon process (also called a task).\""
   ]
  },
  {
   "cell_type": "markdown",
   "metadata": {},
   "source": [
    "# JavaScript Or VBScript\n",
    "\n",
    "I keep having an erro\n",
    "\n",
    " File \"C:\\Users\\Hasan\\Desktop\\Champlain-classes\\SYS-320\\SYS-320\\Week05\\homework\\fs.py\", line 101, in <module>\n",
    "    main()\n",
    "  File \"C:\\Users\\Hasan\\Desktop\\Champlain-classes\\SYS-320\\SYS-320\\Week05\\homework\\fs.py\", line 87, in main\n",
    "    print ("
   ]
  },
  {
   "cell_type": "markdown",
   "metadata": {},
   "source": [
    "# Powershell\n",
    "Type: Powershell Execution \n",
    "| C:\\Windows\\System32\\WindowsPowerShell\\v1.0\\powershell.exe Get-Date \n",
    "| 0000TEBSC | powershell.exe | C:\\Windows\\System32\\powershell.exe | 3728 | zarwatso67\n",
    "\n",
    "One thing I relaized is that has been execute from insde the direcroty inste of opeing the powershell app and do whatever. I dicovred that by seen the path and the argument.\n",
    "argment:C:\\Windows\\System32\\WindowsPowerShell\\v1.0\\powershell.exe Get-Date \n",
    "Path: C:\\Windows\\System32\\powershell.exe \n"
   ]
  },
  {
   "cell_type": "markdown",
   "metadata": {},
   "source": [
    "# What did you like the most and least about this assignment?\n",
    "\n",
    "One thing I liked about this lab is how we can search for specfic log liek powershell and how we can orgnize the lab to tell us the user name and other informaiton.\n",
    "\n",
    "# What additional questions do you have?\n",
    "So far so good. I like what i'm learning so far."
   ]
  }
 ],
 "metadata": {
  "kernelspec": {
   "display_name": "Python 3.10.8 64-bit (microsoft store)",
   "language": "python",
   "name": "python3"
  },
  "language_info": {
   "name": "python",
   "version": "3.10.8"
  },
  "orig_nbformat": 4,
  "vscode": {
   "interpreter": {
    "hash": "8494a212524495996e99d07a0d88c56134637ead26357dce8a3ffb82525bed6f"
   }
  }
 },
 "nbformat": 4,
 "nbformat_minor": 2
}
