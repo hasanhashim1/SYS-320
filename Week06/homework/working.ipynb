{
 "cells": [
  {
   "cell_type": "code",
   "execution_count": 7,
   "metadata": {},
   "outputs": [
    {
     "ename": "SyntaxError",
     "evalue": "(unicode error) 'unicodeescape' codec can't decode bytes in position 0-1: truncated \\UXXXXXXXX escape (1264771305.py, line 7)",
     "output_type": "error",
     "traceback": [
      "\u001b[1;36m  Input \u001b[1;32mIn [7]\u001b[1;36m\u001b[0m\n\u001b[1;33m    check = os.path.exists(\"\\Users\\Hasan\\Desktop\\Champlain-classes\\SYS-320\\SYS-320\\Week06\\homework\\ssh_results.txt\")\u001b[0m\n\u001b[1;37m                                                                                                                   ^\u001b[0m\n\u001b[1;31mSyntaxError\u001b[0m\u001b[1;31m:\u001b[0m (unicode error) 'unicodeescape' codec can't decode bytes in position 0-1: truncated \\UXXXXXXXX escape\n"
     ]
    }
   ],
   "source": [
    "import paramiko\n",
    "import os\n",
    "import os.path\n",
    "from getpass import getpass\n",
    "\n",
    "#Checks to see if the filepath exists\n",
    "check = os.path.exists('../../week06/homework/ssh_results.txt')\n",
    "\n",
    "\n",
    "\n",
    "\n",
    "\n",
    "\n",
    "if check == True:\n",
    "    #If the file exists, prompt the user for file deletion\n",
    "    print(\"Your ssh_results.txt file still exists\")\n",
    "    x = input(\"Do you want to delete this file: \")\n",
    "    if x == \"yes\":\n",
    "        #Deletes the file\n",
    "        os.remove('ssh_results.txt')\n",
    "        print(\"Your file has been deleted.\")\n",
    "    elif x == \"no\":\n",
    "        print(\"This file will not be deleted.\")\n",
    "    else:\n",
    "        print(\"AuthenticationError\")\n",
    "else:\n",
    "    print(\"There is currently no ssh_results.txt file made.\")\n",
    "\n",
    "\n",
    "#Create the password prompt\n",
    "thePass = getpass(prompt = \"Please enter your SSH password: \")\n",
    "\n",
    "#Host information\n",
    "host = \"192.168.206.128\"\n",
    "port = 22\n",
    "username = \"kali\"\n",
    "password = thePass\n",
    "\n",
    "try:\n",
    "\n",
    "    ssh = paramiko.SSHClient()\n",
    "    ssh.set_missing_host_key_policy(paramiko.AutoAddPolicy)\n",
    "    ssh.connect(host, port, username, password)\n",
    "\n",
    "except paramiko.AuthenticationException:\n",
    "    print(\"Authenticated failed.\")"
   ]
  }
 ],
 "metadata": {
  "kernelspec": {
   "display_name": "Python 3.10.8 64-bit (microsoft store)",
   "language": "python",
   "name": "python3"
  },
  "language_info": {
   "codemirror_mode": {
    "name": "ipython",
    "version": 3
   },
   "file_extension": ".py",
   "mimetype": "text/x-python",
   "name": "python",
   "nbconvert_exporter": "python",
   "pygments_lexer": "ipython3",
   "version": "3.10.8"
  },
  "orig_nbformat": 4,
  "vscode": {
   "interpreter": {
    "hash": "8494a212524495996e99d07a0d88c56134637ead26357dce8a3ffb82525bed6f"
   }
  }
 },
 "nbformat": 4,
 "nbformat_minor": 2
}
