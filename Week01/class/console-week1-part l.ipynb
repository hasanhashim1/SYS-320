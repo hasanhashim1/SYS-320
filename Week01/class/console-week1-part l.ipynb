{
 "cells": [
  {
   "cell_type": "code",
   "execution_count": 18,
   "metadata": {},
   "outputs": [
    {
     "name": "stdout",
     "output_type": "stream",
     "text": [
      "['Jun 15 02:04:59 combo sshd(pam_unix)[20897]: authentication failure; logname= uid=0 euid=0 tty=NODEVssh ruser= rhost=220-135-151-1.hinet-ip.hinet.net  user=root\\n', 'Jun 15 02:04:59 combo sshd(pam_unix)[20898]: authentication failure; logname= uid=0 euid=0 tty=NODEVssh ruser= rhost=220-135-151-1.hinet-ip.hinet.net  user=root\\n', 'Jun 15 04:06:18 combo su(pam_unix)[21416]: session opened for user cyrus by (uid=0)\\n', 'Jun 15 04:06:19 combo su(pam_unix)[21416]: session closed for user cyrus\\n', 'Jun 15 04:06:20 combo logrotate: ALERT exited abnormally with [1]\\n', 'Jun 15 04:12:42 combo su(pam_unix)[22644]: session opened for user news by (uid=0)\\n', 'Jun 15 04:12:43 combo su(pam_unix)[22644]: session closed for user news\\n', 'Jun 15 12:12:34 combo sshd(pam_unix)[23397]: check pass; user unknown\\n', 'Jun 15 12:12:34 combo sshd(pam_unix)[23397]: authentication failure; logname= uid=0 euid=0 tty=NODEVssh ruser= rhost=218.188.2.4 ']\n"
     ]
    }
   ],
   "source": [
    "#searching throught syslog foles\n",
    "import re\n",
    "#Here I'm trying to opent he log file\n",
    "with open('../../logs/smallSyslog.log') as f:\n",
    "    # saving the log into a variable which in this case is contents\n",
    "    contents = f.readlines()\n",
    "# Here is printting the log use the variable that we created\n",
    "    print(contents)"
   ]
  },
  {
   "cell_type": "code",
   "execution_count": 14,
   "metadata": {},
   "outputs": [],
   "source": [
    "#Here we havr keywords that we want to search for\n",
    "keywords = ['sshd\\(pam_unix\\)\\[[0-9]{3,8}\\]: authentication failure;', 'session opened for user.*', 'ALERT.*', 'abnormally.*', 'exited abnormally.*']"
   ]
  },
  {
   "cell_type": "code",
   "execution_count": 19,
   "metadata": {},
   "outputs": [
    {
     "name": "stdout",
     "output_type": "stream",
     "text": [
      "['sshd(pam_unix)[20897]: authentication failure;']\n",
      "[]\n",
      "[]\n",
      "[]\n",
      "[]\n",
      "['sshd(pam_unix)[20898]: authentication failure;']\n",
      "[]\n",
      "[]\n",
      "[]\n",
      "[]\n",
      "[]\n",
      "['session opened for user cyrus by (uid=0)']\n",
      "[]\n",
      "[]\n",
      "[]\n",
      "[]\n",
      "[]\n",
      "[]\n",
      "[]\n",
      "[]\n",
      "[]\n",
      "[]\n",
      "['ALERT exited abnormally with [1]']\n",
      "['abnormally with [1]']\n",
      "['exited abnormally with [1]']\n",
      "[]\n",
      "['session opened for user news by (uid=0)']\n",
      "[]\n",
      "[]\n",
      "[]\n",
      "[]\n",
      "[]\n",
      "[]\n",
      "[]\n",
      "[]\n",
      "[]\n",
      "[]\n",
      "[]\n",
      "[]\n",
      "[]\n",
      "['sshd(pam_unix)[23397]: authentication failure;']\n",
      "[]\n",
      "[]\n",
      "[]\n",
      "[]\n"
     ]
    }
   ],
   "source": [
    "#loopping through every line in the log\n",
    "for line in contents:\n",
    "    #Here is loopping through ever keywords inside the log\n",
    "    for keyword in keywords:\n",
    "        #if keyword in line:\n",
    "        x = re.findall(r''+keyword+'', line)\n",
    "        #printting the final result\n",
    "        print(x)"
   ]
  }
 ],
 "metadata": {
  "kernelspec": {
   "display_name": "Python 3.10.6 64-bit (microsoft store)",
   "language": "python",
   "name": "python3"
  },
  "language_info": {
   "codemirror_mode": {
    "name": "ipython",
    "version": 3
   },
   "file_extension": ".py",
   "mimetype": "text/x-python",
   "name": "python",
   "nbconvert_exporter": "python",
   "pygments_lexer": "ipython3",
   "version": "3.10.6"
  },
  "orig_nbformat": 4,
  "vscode": {
   "interpreter": {
    "hash": "8494a212524495996e99d07a0d88c56134637ead26357dce8a3ffb82525bed6f"
   }
  }
 },
 "nbformat": 4,
 "nbformat_minor": 2
}
