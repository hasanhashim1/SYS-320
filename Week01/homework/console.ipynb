{
 "cells": [
  {
   "cell_type": "code",
   "execution_count": 45,
   "metadata": {},
   "outputs": [
    {
     "data": {
      "text/plain": [
       "<module 'syslogFTPConnection' from 'c:\\\\Users\\\\Hasan\\\\Desktop\\\\Champlain classes\\\\SYS-320\\\\Week01\\\\homework\\\\syslogFTPConnection.py'>"
      ]
     },
     "execution_count": 45,
     "metadata": {},
     "output_type": "execute_result"
    }
   ],
   "source": [
    "import syslogKlogind, syslogSSHUsers, syslogSSH, syslogSU, syslogFTPConnection\n",
    "import importlib\n",
    "importlib.reload(syslogKlogind)\n",
    "importlib.reload(syslogSSHUsers)\n",
    "importlib.reload(syslogSSH)\n",
    "importlib.reload(syslogSU)\n",
    "importlib.reload(syslogFTPConnection)"
   ]
  },
  {
   "cell_type": "markdown",
   "metadata": {},
   "source": [
    "# SSh Authentication Failure"
   ]
  },
  {
   "cell_type": "code",
   "execution_count": 46,
   "metadata": {},
   "outputs": [
    {
     "name": "stdout",
     "output_type": "stream",
     "text": [
      "rhost=biblioteka.wsi.edu.pl\n",
      "rhost=h64-187-1-131.gtconnect.net\n",
      "rhost=c9063558.virtua.com.br\n",
      "rhost=210.76.59.29\n",
      "rhost=210.229.150.228\n",
      "rhost=csnsu.nsuok.edu\n",
      "rhost=211.214.161.141\n",
      "rhost=d211-116-254-214.rev.krline.net\n",
      "rhost=220-135-151-1.hinet-ip.hinet.net\n",
      "rhost=218.16.122.48\n",
      "rhost=209.152.168.249\n",
      "rhost=203.251.225.101\n",
      "rhost=85.44.47.166\n",
      "rhost=211.46.224.253\n",
      "rhost=193.110.106.11\n",
      "rhost=68.143.156.89.nw.nuvox.net\n",
      "rhost=200.60.37.201\n",
      "rhost=218.55.234.102\n",
      "rhost=61-220-159-99.hinet-ip.hinet.net\n",
      "rhost=60.30.224.116\n",
      "rhost=207.243.167.114\n",
      "rhost=zummit.com\n",
      "rhost=n219076184117.netvigator.com\n",
      "rhost=218.22.3.51\n",
      "rhost=adsl-70-242-75-179.dsl.ksc2mo.swbell.net\n",
      "rhost=c51471f2c.cable.wanadoo.nl\n",
      "rhost=211.115.206.155\n",
      "rhost=62-192-102-94.dsl.easynet.nl\n",
      "rhost=82.77.200.128\n",
      "rhost=65.166.159.14\n",
      "rhost=061092085098.ctinets.com\n",
      "rhost=212.0.132.20\n",
      "rhost=217.60.212.66\n",
      "rhost=211.9.58.217\n",
      "rhost=150.183.249.110\n",
      "rhost=ip-216-69-169-168.ip.secureserver.net\n",
      "rhost=202.181.236.180\n",
      "rhost=61.53.154.93\n",
      "rhost=211-76-104-65.ebix.net.tw\n",
      "rhost=massive.merukuru.org\n",
      "rhost=211.137.205.253\n",
      "rhost=218.188.2.4\n",
      "rhost=troi.bluesky-technologies.com\n",
      "rhost=195.129.24.210\n",
      "rhost=p15105218.pureserver.info\n",
      "rhost=202-132-40-29.adsl.ttn.net\n",
      "rhost=220.117.241.87\n"
     ]
    }
   ],
   "source": [
    "syslogSSH.ssh_fail('../../logs/Linux_2k.log', ['sshd\\(pam_unix\\).*authentication failure.*'])"
   ]
  },
  {
   "cell_type": "markdown",
   "metadata": {},
   "source": [
    "# SU open"
   ]
  },
  {
   "cell_type": "code",
   "execution_count": 47,
   "metadata": {},
   "outputs": [
    {
     "name": "stdout",
     "output_type": "stream",
     "text": [
      "cyrus\n",
      "news\n"
     ]
    }
   ],
   "source": [
    "syslogSU.su_open('../../logs/Linux_2k.log', ['su\\(pam_unix\\).*session opened for user.*'])"
   ]
  },
  {
   "cell_type": "markdown",
   "metadata": {},
   "source": [
    "# klogind"
   ]
  },
  {
   "cell_type": "code",
   "execution_count": 48,
   "metadata": {},
   "outputs": [
    {
     "name": "stdout",
     "output_type": "stream",
     "text": [
      "163.27.187.39\n"
     ]
    }
   ],
   "source": [
    "syslogKlogind.klogind_fail('../../logs/Linux_2k.log', ['klogind.*Authentication failed from.*'])"
   ]
  },
  {
   "cell_type": "markdown",
   "metadata": {},
   "source": [
    "# SSH users"
   ]
  },
  {
   "cell_type": "code",
   "execution_count": 49,
   "metadata": {},
   "outputs": [
    {
     "name": "stdout",
     "output_type": "stream",
     "text": [
      "test\n"
     ]
    }
   ],
   "source": [
    "syslogSSHUsers.ssh_user('../../logs/Linux_2k.log', ['sshd\\(pam_unix\\).*session opened for user.*'])"
   ]
  },
  {
   "cell_type": "markdown",
   "metadata": {},
   "source": [
    "# FTP Connection"
   ]
  },
  {
   "cell_type": "code",
   "execution_count": 50,
   "metadata": {},
   "outputs": [
    {
     "name": "stdout",
     "output_type": "stream",
     "text": [
      "222.33.90.199\n",
      "217.187.83.139\n",
      "210.245.165.136\n",
      "212.65.68.82\n",
      "81.171.220.226\n",
      "62.99.164.82\n",
      "211.42.188.206\n",
      "61.74.96.178\n",
      "211.57.88.250\n",
      "211.167.68.59\n",
      "221.4.102.93\n",
      "84.102.20.2\n",
      "82.83.227.67\n",
      "216.12.111.241\n",
      "63.197.98.106\n",
      "218.146.61.230\n",
      "24.54.76.216\n",
      "203.101.45.59\n",
      "82.68.222.195\n",
      "206.196.21.129\n",
      "172.181.208.156\n",
      "211.72.2.106\n",
      "83.116.207.11\n",
      "208.62.55.75\n",
      "218.38.58.3\n",
      "217.187.83.50\n",
      "211.107.232.1\n",
      "210.223.97.117\n",
      "207.30.238.8\n",
      "218.69.108.57\n",
      "82.252.162.81\n",
      "67.95.49.172\n",
      "82.68.222.194\n",
      "220.94.205.45\n",
      "202.82.200.188\n",
      "206.47.209.10\n",
      "210.118.170.95\n",
      "211.72.151.162\n"
     ]
    }
   ],
   "source": [
    "syslogFTPConnection.ftp_connection('../../logs/Linux_2k.log', ['ftpd.*connection from.*'])"
   ]
  },
  {
   "cell_type": "markdown",
   "metadata": {},
   "source": [
    "# Questions"
   ]
  },
  {
   "cell_type": "markdown",
   "metadata": {},
   "source": [
    "Question 3: \n",
    "I think someone was trying to hack in using the user test. when we look at the log, ssh session was opened more than 5 times in the same time.\n",
    "If we look at log from line 585 to 592 ssh session opened for 8 times at 22:16:32.\n",
    "\n",
    "Question 4: \n",
    "Using this tool to sort through logs is very useful and I like the convenience it provides. Actually implementing it took the most time, and despite that, this lab wasn't bad at all!\n",
    "\n",
    "Question 5: \n",
    "I don't any questions so far"
   ]
  }
 ],
 "metadata": {
  "kernelspec": {
   "display_name": "Python 3.10.6 64-bit (microsoft store)",
   "language": "python",
   "name": "python3"
  },
  "language_info": {
   "codemirror_mode": {
    "name": "ipython",
    "version": 3
   },
   "file_extension": ".py",
   "mimetype": "text/x-python",
   "name": "python",
   "nbconvert_exporter": "python",
   "pygments_lexer": "ipython3",
   "version": "3.10.6"
  },
  "orig_nbformat": 4,
  "vscode": {
   "interpreter": {
    "hash": "8494a212524495996e99d07a0d88c56134637ead26357dce8a3ffb82525bed6f"
   }
  }
 },
 "nbformat": 4,
 "nbformat_minor": 2
}
