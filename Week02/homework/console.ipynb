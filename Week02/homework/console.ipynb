{
 "cells": [
  {
   "cell_type": "code",
   "execution_count": 197,
   "metadata": {},
   "outputs": [
    {
     "data": {
      "text/plain": [
       "<module 'apacheLog' from 'c:\\\\Users\\\\Hasan\\\\Desktop\\\\Champlain classes\\\\SYS-320\\\\SYS-320\\\\Week02\\\\homework\\\\apacheLog.py'>"
      ]
     },
     "execution_count": 197,
     "metadata": {},
     "output_type": "execute_result"
    }
   ],
   "source": [
    "import apacheLog \n",
    "import proxyLog\n",
    "import importlib\n",
    "importlib.reload(proxyLog)\n",
    "importlib.reload(apacheLog)\n"
   ]
  },
  {
   "cell_type": "markdown",
   "metadata": {},
   "source": [
    "### PHP"
   ]
  },
  {
   "cell_type": "code",
   "execution_count": 198,
   "metadata": {},
   "outputs": [
    {
     "name": "stdout",
     "output_type": "stream",
     "text": [
      "404 GET /wordpress/wp-login.php\n",
      "404 GET /mediawiki/index.php?title=Main_Page\n"
     ]
    }
   ],
   "source": [
    "apacheLog.apache_events(\"../../logs/access.log\", \"apache\", \"php\")"
   ]
  },
  {
   "cell_type": "code",
   "execution_count": 199,
   "metadata": {},
   "outputs": [
    {
     "name": "stdout",
     "output_type": "stream",
     "text": [
      "404 POST /cgi-bin/test-cgi\n",
      "404 GET /cgi-bin/htsearch?Exclude=%60/etc/passwd%60\n",
      "404 GET /cgi-bin/test-cgi\n"
     ]
    }
   ],
   "source": [
    "\n",
    "apacheLog.apache_events(\"../../logs/access.log\", \"apache\", \"cgi\")"
   ]
  },
  {
   "cell_type": "markdown",
   "metadata": {},
   "source": [
    "### QQ Closed Proxy"
   ]
  },
  {
   "cell_type": "code",
   "execution_count": 200,
   "metadata": {},
   "outputs": [
    {
     "name": "stdout",
     "output_type": "stream",
     "text": [
      "          QQ.exe | 0 bytes sent, 6 bytes (1.67 KB) received\n",
      "          QQ.exe | 9 bytes sent, 1 bytes received\n",
      "          QQ.exe | 7 bytes sent, 8 bytes received\n",
      "          QQ.exe | 6 bytes sent, 4 bytes (2.78 KB) received\n",
      "          QQ.exe | 6 bytes sent, 2 bytes (122 KB) received\n",
      "QQProtectUpd.exe | 1 bytes sent, 0 bytes received\n",
      "          QQ.exe | 0 bytes sent, 0 bytes received\n",
      "          QQ.exe | 3 bytes sent, 0 bytes received\n",
      "  QQExternal.exe | 4 bytes (1.60 KB) sent, 8 bytes received\n"
     ]
    }
   ],
   "source": [
    "proxyLog.proxy_bytes(\"../../logs/Proxifier_2k.log\", \"proxy\", \"closed\")"
   ]
  },
  {
   "cell_type": "markdown",
   "metadata": {},
   "source": [
    "### QQ openeing Proxy"
   ]
  },
  {
   "cell_type": "code",
   "execution_count": 201,
   "metadata": {},
   "outputs": [
    {
     "name": "stdout",
     "output_type": "stream",
     "text": [
      "      Executable |         Address          | Proxy\n",
      "          QQ.exe |  tcpconn.tencent.com:80  | proxy.cse.cuhk.edu.hk:5070\n",
      "          QQ.exe | tcpconn6.tencent.com:443 | proxy.cse.cuhk.edu.hk:5070\n",
      "          QQ.exe |   cgi.qqweb.qq.com:80    | proxy.cse.cuhk.edu.hk:5070\n",
      "          QQ.exe | tcpconn3.tencent.com:443 | proxy.cse.cuhk.edu.hk:5070\n",
      "          QQ.exe |    183.60.49.182:443     | proxy.cse.cuhk.edu.hk:5070\n",
      "    QQPlayer.exe |     btrace.qq.com:80     | proxy.cse.cuhk.edu.hk:5070\n",
      "QQProtectUpd.exe |   qdun-data.qq.com:443   | proxy.cse.cuhk.edu.hk:5070\n",
      "          QQ.exe | tcpconn6.tencent.com:80  | proxy.cse.cuhk.edu.hk:5070\n"
     ]
    }
   ],
   "source": [
    "proxyLog.proxy_opened(\"../../logs/Proxifier_2k.log\", \"proxy\", \"opened\")"
   ]
  },
  {
   "cell_type": "markdown",
   "metadata": {},
   "source": [
    "### Qs"
   ]
  },
  {
   "cell_type": "markdown",
   "metadata": {},
   "source": [
    "What is your interpretation of the results that you discovered (Did the files match known threat intell information? Was there activity to and from the same remote host?)\n",
    "\n",
    "One thing I reliazed is that there were an activity form the QQ.exe and also it was an activity from the same host\n",
    "\n",
    "\n",
    "What did you like the most and least about this assignment?\n",
    "\n",
    "I liked missing around with logcheck.py and I also liked how we can use the class work to help us with assignments. The prxylog.py was kinda confusing, but at the end I got it working.\n",
    "\n",
    "What additional questions do you have about this week's material?\n",
    "I don't have any at the moment."
   ]
  }
 ],
 "metadata": {
  "kernelspec": {
   "display_name": "Python 3.10.7 64-bit (microsoft store)",
   "language": "python",
   "name": "python3"
  },
  "language_info": {
   "codemirror_mode": {
    "name": "ipython",
    "version": 3
   },
   "file_extension": ".py",
   "mimetype": "text/x-python",
   "name": "python",
   "nbconvert_exporter": "python",
   "pygments_lexer": "ipython3",
   "version": "3.10.7"
  },
  "orig_nbformat": 4,
  "vscode": {
   "interpreter": {
    "hash": "8494a212524495996e99d07a0d88c56134637ead26357dce8a3ffb82525bed6f"
   }
  }
 },
 "nbformat": 4,
 "nbformat_minor": 2
}
