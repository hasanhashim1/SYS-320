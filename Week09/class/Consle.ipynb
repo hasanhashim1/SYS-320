{
 "cells": [
  {
   "cell_type": "code",
   "execution_count": 17,
   "metadata": {},
   "outputs": [],
   "source": [
    "#By Hasan Hashim\n",
    "# Importting the following follows\n",
    "import paramiko, os, re\n",
    "from datetime import datetime\n",
    "from getpass import getpass\n",
    "\n",
    "\n",
    "# Create the password prompt\n",
    "thePass = getpass(prompt=\"Please enter your SSH password: \")\n",
    "\n",
    "# Host information\n",
    "host = \"192.168.6.71\"\n",
    "port = 2222\n",
    "username = \"hasan.hashim\"\n",
    "password = thePass\n",
    "try:\n",
    "\n",
    "    ssh = paramiko.SSHClient()\n",
    "    ssh.set_missing_host_key_policy(paramiko.AutoAddPolicy()) \n",
    "    ssh.connect(host, port, username, password)\n",
    "\n",
    "except paramiko.AuthenticationException:\n",
    "    print(\"Authentication Failed.\")\n"
   ]
  },
  {
   "cell_type": "code",
   "execution_count": 10,
   "metadata": {},
   "outputs": [
    {
     "name": "stdout",
     "output_type": "stream",
     "text": [
      "- The file was upload successful\n"
     ]
    }
   ],
   "source": [
    "sftp = ssh.open_sftp()\n",
    "\n",
    "# Check if the file already exists\n",
    "try:\n",
    "    # Hwew we are checking if the file is already exists or not\n",
    "    sftp.stat(\"SYS-320\\Week09\\class\\kraken\")\n",
    "    # Helpful message for the user\n",
    "    print(\"- file already exists.\")\n",
    "except IOError:\n",
    "    # if the file does not exists then will do the following\n",
    "    sftp.put(\"./kraken\", \"/home/hasan.hashim/kraken\")\n",
    "    print(\"- The file was upload successful\")\n",
    "\n",
    "\n",
    "\n",
    "\n",
    "\n",
    "# Here I'm writting a fucntion to save the out put inside a file\n",
    "# The point of this function so to make easy for me nto save the out put\n",
    "# So I don't have to write f.write every time I want to save data inside a file.\n",
    "def write(s, output):\n",
    "    print(f\"- Writing the output to logfile called {s}_output.txt\")\n",
    "    # Here we trying to name the file and let the user write the first half of the name.\n",
    "    with open(f\"{s}_output.txt\", \"a\") as f:\n",
    "        f.write(f\"\\n### {s} output - \")\n",
    "        # Writting the time and the date\n",
    "        f.write(datetime.now().strftime(\"%Y-%m-%d %H:%M:%S\") + \" ###\\n\")\n",
    "        # adding the out put\n",
    "        f.write(output)"
   ]
  },
  {
   "cell_type": "code",
   "execution_count": 11,
   "metadata": {},
   "outputs": [
    {
     "name": "stdout",
     "output_type": "stream",
     "text": [
      "### BEGIN ls ###\n",
      "\n",
      "kraken\n",
      "### END ls ###\n",
      "\n",
      "\n",
      "### BEGIN pwd ###\n",
      "\n",
      "/home/hasan.hashim\n",
      "### END pwd ###\n",
      "\n",
      "\n"
     ]
    }
   ],
   "source": [
    "# This is for testting only. I just wanted to make suer that the file was uploaded\n",
    "command = ['ls','pwd']\n",
    "for eachCMD in command:\n",
    "    # Get the output from the command\n",
    "    stdin, stdout, stderr = ssh.exec_command(eachCMD)\n",
    "\n",
    "    # Get results from stdout\n",
    "    lines = stdout.readlines()\n",
    "    #print(lines)\n",
    "\n",
    "    # Convert the lsiti to a string\n",
    "    output = ''.join(lines)\n",
    "\n",
    "    # Header\n",
    "    sepHeader = '' + '### BEGIN ' + eachCMD + ' ###\\n\\n'\n",
    "\n",
    "    # Footer\n",
    "    sepFooter = '' + '### END ' + eachCMD + ' ###\\n\\n'\n",
    "\n",
    "    # Concatenate the header, output, and footer\n",
    "    cmd_output = sepHeader + output + sepFooter\n",
    "\n",
    "    # Save the cmd_output to a file\n",
    "    # with open('ssh_results.txt', 'a') as f:\n",
    "    #     f.write(cmd_output)\n",
    "    print(cmd_output)"
   ]
  },
  {
   "cell_type": "code",
   "execution_count": 12,
   "metadata": {},
   "outputs": [
    {
     "name": "stdout",
     "output_type": "stream",
     "text": [
      "[-] Running kraken on the remote host...\n",
      "- The execution was completed\n",
      "- Writing the output to logfile called kraken_output.txt\n"
     ]
    }
   ],
   "source": [
    "\n",
    "ssh.exec_command(\"chmod +x /home/hasan.hashim/kraken\")\n",
    "# Here are the command to use when running kraken\n",
    "kraken_command = \"sudo -S /home/hasan.hashim/kraken --folder /usr/bin --folder  --folder /usr/sbin/   --folder /usr/local/bin  --folder /sbin  --folder /usr/local/sbin  --folder /bin\"\n",
    "# Here I'm tryying to run and get the output from kraken\n",
    "print(\"[-] Running kraken on the remote host...\")\n",
    "stdin, stdout, stderr = ssh.exec_command(kraken_command)\n",
    "# We have to run the commands as a root so I used the following line to do that\n",
    "stdin.write(password + \"\\n\")\n",
    "# Getting the information from the stdout and stored in lines\n",
    "lines = stdout.readlines()\n",
    "print(\"- The execution was completed\")\n",
    "# Here I'm trying to make it look orgnized\n",
    "ansi_escape = re.compile(r'\\x1B(?:[@-Z\\\\-_]|\\[[0-?]*[ -/]*[@-~])')\n",
    "output = ansi_escape.sub(\"\", \"\".join(lines))\n",
    "# Here I'm using the function write to save the output inside a file\n",
    "write(\"kraken\", output)\n",
    "\n"
   ]
  },
  {
   "cell_type": "code",
   "execution_count": 13,
   "metadata": {},
   "outputs": [
    {
     "name": "stdout",
     "output_type": "stream",
     "text": [
      "- Detected 1 process(es) with pid(s) [561559]\n",
      "- Getting list of open files for 1 process(es)...\n",
      "- Writing the output to logfile called lsof_output.txt\n"
     ]
    }
   ],
   "source": [
    "# Get only pids for detected processes to pipe into lsof\n",
    "\n",
    "# Trying to figuer out if there are any processes running containing matches from the task above for ThugStyle activity, use lsof to list all open files for that process.  Look for detections that include: pid=XXXX\n",
    "pids = re.findall(r\"pid=(\\d+)(?!.*snapd)\", output)\n",
    "# Here I'm printting the detected process that my program saw\n",
    "print(f\"- Detected {len(pids)} process(es) with pid(s) {list(map(int, pids))}\")\n",
    "# Here I'm printting the files that was opened\n",
    "print(f\"- Getting list of open files for {len(pids)} process(es)...\")\n",
    "# Here I'm tryying to send an command in to the host to run the pids that I got\n",
    "lsof_command = f\"sudo -S lsof -p {','.join(pids)}\"\n",
    "# Here I'm getting the output from lsof command\n",
    "stdin, stdout, stderr = ssh.exec_command(lsof_command)\n",
    "# Becouse we unning command with sudo, the user password\n",
    "stdin.write(password + \"\\n\")\n",
    "lsof_output = \"\".join(stdout.readlines())\n",
    "\n",
    "# Here I'm using the function write to save the output inside a file\n",
    "write(\"lsof\", lsof_output)"
   ]
  },
  {
   "cell_type": "code",
   "execution_count": 14,
   "metadata": {},
   "outputs": [
    {
     "name": "stdout",
     "output_type": "stream",
     "text": [
      "- looking for suspicious usernames in lsof outputs\n",
      ". Worring suspicious username found in lsof list: p.dalton\n",
      " Worring downloading suspicious file: /usr/local/bin/egrep\n",
      " Worring downloading suspicious file: /usr/lib/x86_64-linux-gnu/libc-2.31.so\n",
      " Worring downloading suspicious file: /usr/lib/x86_64-linux-gnu/libpthread-2.31.so\n",
      " Worring downloading suspicious file: /usr/lib/x86_64-linux-gnu/ld-2.31.so\n",
      " Worring downloading suspicious file: /home/p.dalton/.d.log\n",
      "- file /home/p.dalton/.d.log already downloaded\n",
      " Worring downloading suspicious file: /home/p.dalton/d.pid\n",
      "- The file has been download(s) succefuly \n"
     ]
    }
   ],
   "source": [
    "# Here I'm processing lsof output to check for suspicious usernames\n",
    "print(\"- looking for suspicious usernames in lsof outputs\")\n",
    "\n",
    "# Here I create a format for ThugStyle username\n",
    "thusername = re.compile(r\"^[A-Za-z]\\.[A-Za-z]+\")\n",
    "# Getting a list\n",
    "sus_usernames = []\n",
    "\n",
    "# Now we need to create a output directory to be orgnized \n",
    "if not os.path.exists(\"./output\"):\n",
    "    os.mkdir(\"output\")\n",
    "\n",
    "# looking through a lsof outputs to check for usernames\n",
    "for line in lsof_output.splitlines():\n",
    "    # suspicious username pattern\n",
    "    if re.search(thusername, line.split()[2]):\n",
    "        fields = line.split()\n",
    "\n",
    "        # Here I'm trying to duble Check for username in the list to avoid duplicate output\n",
    "        if fields[2] not in sus_usernames:\n",
    "            print(f\". Worring suspicious username found in lsof list: {fields[2]}\")\n",
    "            sus_usernames.append(fields[2])\n",
    "        if fields[3] != \"DEL\" and fields[4] == \"REG\":\n",
    "            out_filename = \"output/\" + fields[8].split('/')[-1]\n",
    "            # Make suer if the files has been already been downloaded\n",
    "            if not os.path.exists(out_filename):\n",
    "                print(f\" Worring downloading suspicious file: {fields[8]}\")\n",
    "                sftp.get(fields[8], out_filename)\n",
    "            else:\n",
    "                # making suer the file is been already downloaded\n",
    "                print(f\"- file {fields[8]} already downloaded\")\n",
    "\n",
    "print(\"- The file has been download(s) succefuly \")"
   ]
  },
  {
   "cell_type": "code",
   "execution_count": 15,
   "metadata": {},
   "outputs": [
    {
     "name": "stdout",
     "output_type": "stream",
     "text": [
      "p.dalton:x:1001:1001::/home/p.dalton:/bin/bash\n",
      "p.dalton  560582  0.0  0.1  18364 18352 ?        Ss   Oct25   0:00 /lib/systemd/systemd --user\n",
      "p.dalton  560590  0.0  1.0 182120 173192 ?       S    Oct25   0:00 (sd-pam)\n",
      "p.dalton  561559  0.0  0.0 1003532 1212 ?        Ssl  Oct25   0:01 [go-daemon sample]\n",
      "Oct 30 17:13:25 sys320 sudo: alexander.brown : TTY=unknown ; PWD=/home/alexander.brown ; USER=root ; COMMAND=/usr/bin/ps -u p.dalton\n",
      "Oct 30 20:16:15 sys320 sudo: alexander.brown : TTY=unknown ; PWD=/home/alexander.brown ; USER=root ; COMMAND=/usr/bin/ps -u p.dalton\n",
      "Oct 30 20:16:16 sys320 sudo: alexander.brown : TTY=unknown ; PWD=/home/alexander.brown ; USER=root ; COMMAND=/usr/bin/lastlog -b 3 -u p.dalton\n",
      "Oct 30 20:16:16 sys320 sudo: alexander.brown : TTY=unknown ; PWD=/home/alexander.brown ; USER=root ; COMMAND=/usr/bin/ls -d /home/p.dalton -al\n",
      "Oct 30 20:18:33 sys320 sudo: alexander.brown : TTY=unknown ; PWD=/home/alexander.brown ; USER=root ; COMMAND=/usr/bin/ps -u p.dalton\n",
      "Oct 30 20:18:33 sys320 sudo: alexander.brown : TTY=unknown ; PWD=/home/alexander.brown ; USER=root ; COMMAND=/usr/bin/lastlog -b 3 -u p.dalton\n",
      "Oct 30 20:18:34 sys320 sudo: alexander.brown : TTY=unknown ; PWD=/home/alexander.brown ; USER=root ; COMMAND=/usr/bin/ls -d /home/p.dalton -al\n",
      "Oct 30 20:21:50 sys320 sudo: alexander.brown : TTY=unknown ; PWD=/home/alexander.brown ; USER=root ; COMMAND=/usr/bin/ls -al -R /home/p.dalton\n",
      "Oct 30 20:21:50 sys320 sudo: alexander.brown : TTY=unknown ; PWD=/home/alexander.brown ; USER=root ; COMMAND=/usr/bin/ps -u p.dalton\n",
      "Oct 30 20:21:50 sys320 sudo: alexander.brown : TTY=unknown ; PWD=/home/alexander.brown ; USER=root ; COMMAND=/usr/bin/lastlog -b 3 -u p.dalton\n",
      "Oct 30 20:21:51 sys320 sudo: alexander.brown : TTY=unknown ; PWD=/home/alexander.brown ; USER=root ; COMMAND=/usr/bin/ls -d /home/p.dalton -al\n",
      "Oct 30 20:23:47 sys320 sudo: alexander.brown : TTY=unknown ; PWD=/home/alexander.brown ; USER=root ; COMMAND=/usr/bin/ls -al -R /home/p.dalton\n",
      "Oct 30 20:23:48 sys320 sudo: alexander.brown : TTY=unknown ; PWD=/home/alexander.brown ; USER=root ; COMMAND=/usr/bin/ps -u p.dalton\n",
      "Oct 30 20:23:48 sys320 sudo: alexander.brown : TTY=unknown ; PWD=/home/alexander.brown ; USER=root ; COMMAND=/usr/bin/lastlog -b 3 -u p.dalton\n",
      "Oct 30 20:23:48 sys320 sudo: alexander.brown : TTY=unknown ; PWD=/home/alexander.brown ; USER=root ; COMMAND=/usr/bin/ls -d /home/p.dalton -al\n",
      "Oct 30 21:33:41 sys320 sudo: paul.gleason : TTY=pts/2 ; PWD=/home/p.dalton ; USER=root ; COMMAND=/bin/bash\n",
      "Oct 31 19:48:05 sys320 sudo: paul.gleason : TTY=pts/7 ; PWD=/home/p.dalton ; USER=root ; COMMAND=/bin/bash\n",
      "Oct 31 20:49:58 sys320 sudo: dylan.navarro : TTY=unknown ; PWD=/home/dylan.navarro ; USER=root ; COMMAND=/usr/bin/cp /home/p.dalton /home/dylan.navarro/send/p.dalto\n",
      "Oct 31 20:54:24 sys320 sudo: dylan.navarro : TTY=unknown ; PWD=/home/dylan.navarro ; USER=root ; COMMAND=/usr/bin/cp /home/p.dalton /home/dylan.navarro/send/p.dalto\n",
      "Oct 31 20:54:25 sys320 sudo: dylan.navarro : TTY=unknown ; PWD=/home/dylan.navarro ; USER=root ; COMMAND=/usr/bin/chown dylan.navarro /home/dylan.navarro/send/p.dalto\n",
      "Oct 31 20:57:44 sys320 sudo: dylan.navarro : TTY=unknown ; PWD=/home/dylan.navarro ; USER=root ; COMMAND=/usr/bin/cp /home/p.dalton /home/dylan.navarro/send/p.dalto\n",
      "Oct 31 20:57:44 sys320 sudo: dylan.navarro : TTY=unknown ; PWD=/home/dylan.navarro ; USER=root ; COMMAND=/usr/bin/chown dylan.navarro /home/dylan.navarro/send/p.dalto\n",
      "Oct 31 20:59:03 sys320 sudo: dylan.navarro : TTY=unknown ; PWD=/home/dylan.navarro ; USER=root ; COMMAND=/usr/bin/cp /home/p.dalton /home/dylan.navarro/send/p.dalto\n",
      "Oct 31 20:59:04 sys320 sudo: dylan.navarro : TTY=unknown ; PWD=/home/dylan.navarro ; USER=root ; COMMAND=/usr/bin/chown dylan.navarro /home/dylan.navarro/send/p.dalto\n",
      "Oct 31 21:02:06 sys320 sudo: dylan.navarro : TTY=unknown ; PWD=/home/dylan.navarro ; USER=root ; COMMAND=/usr/bin/cp /home/p.dalton /home/dylan.navarro/send/p.dalto\n",
      "Oct 31 21:02:06 sys320 sudo: dylan.navarro : TTY=unknown ; PWD=/home/dylan.navarro ; USER=root ; COMMAND=/usr/bin/chown dylan.navarro /home/dylan.navarro/send/p.dalto\n",
      "Oct 31 21:02:07 sys320 sudo: dylan.navarro : TTY=unknown ; PWD=/home/dylan.navarro ; USER=root ; COMMAND=/usr/bin/cp /home/p.dalton/.d.log /home/dylan.navarro/send/.d.lo\n",
      "Oct 31 21:02:07 sys320 sudo: dylan.navarro : TTY=unknown ; PWD=/home/dylan.navarro ; USER=root ; COMMAND=/usr/bin/chown dylan.navarro /home/dylan.navarro/send/.d.lo\n",
      "Oct 31 21:02:08 sys320 sudo: dylan.navarro : TTY=unknown ; PWD=/home/dylan.navarro ; USER=root ; COMMAND=/usr/bin/cp /home/p.dalton/d.pid /home/dylan.navarro/send/d.pi\n",
      "Oct 31 21:02:09 sys320 sudo: dylan.navarro : TTY=unknown ; PWD=/home/dylan.navarro ; USER=root ; COMMAND=/usr/bin/chown dylan.navarro /home/dylan.navarro/send/d.pi\n"
     ]
    }
   ],
   "source": [
    "# Here I'm trying to check other locations on the system for ThugStyle\n",
    "search_commands = [ \"cat /etc/passwd\", \"ps aux\", \"sudo -S cat /var/log/auth.log\"]\n",
    "# Making sure that the thugstyle work with differnet lines\n",
    "thusername = re.compile(r\"(^|[^A-Za-z])([A-Za-z]\\.[A-Za-z]+)\")\n",
    "# In this function I'm trying to process the commands\n",
    "for command in search_commands:\n",
    "    # Here I'm trying to run and see the output for each command that we have above \n",
    "    stdin, stdout, stderr = ssh.exec_command(command)\n",
    "    \n",
    "    # As we know that we need to enter password if command uses sudo, so I told the program to get the password from the first time we have ssh to it\n",
    "    if \"sudo\" in command:\n",
    "        stdin.write(password + \"\\n\")\n",
    "    command_output = \"\".join(stdout.readlines())\n",
    "\n",
    "    # Here I'm specificly told the program to search only results related to ThugStyle users, so the output will clean \n",
    "    thugstyle = re.findall(thusername, output)\n",
    "\n",
    "    for thug in thugstyle:\n",
    "        if thug not in sus_usernames:\n",
    "            print(f\". Worring suspicious username hash been found: {thug}\")\n",
    "            sus_usernames.append(thug)\n",
    "    for line in command_output.splitlines():\n",
    "        if re.search(thusername, line):\n",
    "            print(line)"
   ]
  },
  {
   "cell_type": "code",
   "execution_count": 16,
   "metadata": {},
   "outputs": [
    {
     "name": "stdout",
     "output_type": "stream",
     "text": [
      ". istting the home directory for p.dalton\n",
      "total 528\n",
      "drwxr-xr-x  4 p.dalton p.dalton   4096 Oct 25 23:31 .\n",
      "drwxr-xr-x 63 root     root       4096 Oct 31 18:51 ..\n",
      "-rwxr-xr-x  1 p.dalton p.dalton    360 Oct 25 23:32 .bash_history\n",
      "drwxr-xr-x  2 p.dalton p.dalton   4096 Feb 26  2022 .cache\n",
      "-rwxr-xr-x  1 p.dalton p.dalton    850 Oct 25 23:32 .d.log\n",
      "-rwxr-xr-x  1 p.dalton p.dalton 511476 Feb 18  2022 aqwerpuqwerj\n",
      "-rw-r--r--  1 p.dalton p.dalton      6 Oct 25 23:32 d.pid\n",
      "drwxr-xr-x  2 p.dalton p.dalton   4096 Oct 29 19:51 test-lk\n",
      "\n"
     ]
    }
   ],
   "source": [
    "# Here I'm trying to list the directory fo rusername \n",
    "for username in sus_usernames:\n",
    "    print(f\". istting the home directory for {username}\")\n",
    "    stdin, stdout, stderr = ssh.exec_command(f\"/usr/bin/ls -la /home/{username}\")\n",
    "    print(\"\".join(stdout.readlines()))\n",
    "\n",
    "ssh.close()"
   ]
  }
 ],
 "metadata": {
  "kernelspec": {
   "display_name": "Python 3.10.6 64-bit",
   "language": "python",
   "name": "python3"
  },
  "language_info": {
   "codemirror_mode": {
    "name": "ipython",
    "version": 3
   },
   "file_extension": ".py",
   "mimetype": "text/x-python",
   "name": "python",
   "nbconvert_exporter": "python",
   "pygments_lexer": "ipython3",
   "version": "3.10.6"
  },
  "orig_nbformat": 4,
  "vscode": {
   "interpreter": {
    "hash": "26de051ba29f2982a8de78e945f0abaf191376122a1563185a90213a26c5da77"
   }
  }
 },
 "nbformat": 4,
 "nbformat_minor": 2
}
